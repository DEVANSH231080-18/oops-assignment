{
 "cells": [
  {
   "cell_type": "markdown",
   "id": "04e3ba3b-49d6-491c-a7fd-13ffbec93493",
   "metadata": {},
   "source": [
    "# Object-Oriented Programming (OOP) in Python – Q&A\n",
    "\n",
    "## Ques1: What is Object-Oriented Programming (OOP)?\n",
    "OOP is a programming paradigm based on the concept of \"objects\", which bundle data and methods. It supports features like encapsulation, inheritance, polymorphism, and abstraction to build modular and reusable code.\n",
    "\n",
    "## Ques2: What is a class in OOP?\n",
    "A class is a blueprint or template for creating objects. It defines attributes and methods that the created objects (instances) will have.\n",
    "\n",
    "## Ques3: What is an object in OOP?\n",
    "An object is an instance of a class. It represents a real-world entity and contains the actual data and behavior defined by the class.\n",
    "\n",
    "## Ques4: What is the difference between abstraction and encapsulation?\n",
    "- Abstraction hides complex internal details and exposes only essential features.\n",
    "- Encapsulation hides the internal state of an object and restricts direct access to it by bundling data and methods.\n",
    "\n",
    "## Ques5: What are dunder methods in Python?\n",
    "Dunder methods (double underscore methods) like `__init__`, `__str__`, and `__len__` are special predefined methods that Python uses for operator overloading and object behavior customization.\n",
    "\n",
    "## Ques6: Explain the concept of inheritance in OOP.\n",
    "Inheritance allows a class to acquire the properties and methods of another class. It enables code reuse and supports hierarchical relationships.\n",
    "\n",
    "## Ques7: What is polymorphism in OOP?\n",
    "Polymorphism allows different classes to be treated through a common interface. It enables methods to behave differently based on the object calling them.\n",
    "\n",
    "## Ques8: How is encapsulation achieved in Python?\n",
    "Encapsulation is achieved using access modifiers:\n",
    "- Prefixing variables with a single underscore `_` for protected.\n",
    "- Prefixing with double underscores `__` for private.\n",
    "\n",
    "## Ques9: What is a constructor in Python?\n",
    "A constructor is a special method called `__init__()` which automatically executes when a new object is created. It initializes the object’s attributes.\n",
    "\n",
    "## Ques10: What are class and static methods in Python?\n",
    "- Class methods use `@classmethod` and receive the class (`cls`) as an argument.\n",
    "- Static methods use `@staticmethod` and don’t receive `self` or `cls`. They behave like regular functions placed in a class for logical grouping.\n",
    "\n",
    "## Ques11: What is method overloading in Python?\n",
    "Python does not support traditional method overloading. Instead, default arguments or variable-length arguments are used to achieve similar functionality.\n",
    "\n",
    "## Ques12: What is method overriding in OOP?\n",
    "Method overriding occurs when a subclass provides a specific implementation of a method already defined in its superclass, replacing its behavior.\n",
    "\n",
    "## Ques13: What is a property decorator in Python?\n",
    "The `@property` decorator is used to define methods that behave like attributes. It’s commonly used for implementing getters and setters.\n",
    "\n",
    "## Ques14: Why is polymorphism important in OOP?\n",
    "Polymorphism allows for general interfaces and flexible code, enabling different classes to be used interchangeably while behaving appropriately.\n",
    "\n",
    "## Ques15: What is an abstract class in Python?\n",
    "An abstract class cannot be instantiated and may contain abstract methods that must be implemented by its subclasses. It is defined using the `abc` module.\n",
    "\n",
    "## Ques16: What are the advantages of OOP?\n",
    "- Reusability through inheritance\n",
    "- Modularity through encapsulation\n",
    "- Flexibility through polymorphism\n",
    "- Real-world modeling\n",
    "- Easier maintenance and scalability\n",
    "\n",
    "## Ques17: What is the difference between a class variable and an instance variable?\n",
    "- Class variables are shared across all instances.\n",
    "- Instance variables are unique to each object and defined within the constructor or instance methods.\n",
    "\n",
    "## Ques18: What is multiple inheritance in Python?\n",
    "Multiple inheritance occurs when a class inherits from more than one base class, combining their features and behaviors.\n",
    "\n",
    "## Ques19: Explain the purpose of `__str__` and `__repr__` methods in Python.\n",
    "- `__str__` returns a readable string representation (used by `print()`).\n",
    "- `__repr__` returns a formal, unambiguous string for debugging (used by developers).\n",
    "\n",
    "## Ques20: What is the significance of the `super()` function in Python?\n",
    "`super()` is used to call methods from a parent or superclass, especially useful in method overriding to extend or modify behavior.\n",
    "\n",
    "## Ques21: What is the significance of the `__del__` method in Python?\n",
    "`__del__` is a destructor method called when an object is about to be destroyed. It's rarely used as Python manages memory using garbage collection.\n",
    "\n",
    "## Ques22: What is the difference between @staticmethod and @classmethod in Python?\n",
    "- `@staticmethod` doesn’t access class or instance data.\n",
    "- `@classmethod` takes `cls` and can access/modify class-level data.\n",
    "\n",
    "## Ques23: How does polymorphism work in Python with inheritance?\n",
    "Polymorphism works by allowing subclasses to override parent class methods. The same interface (method name) can behave differently depending on the object’s class.\n",
    "\n",
    "## Ques24: What is method chaining in Python OOP?\n",
    "Method chaining allows multiple methods to be called in a single line by returning `self` from each method, enabling fluent-style programming.\n",
    "\n",
    "## Ques25: What is the purpose of the `__call__` method in Python?\n",
    "The `__call__` method allows an object to be called as a function. It is invoked when the object is followed by parentheses.\n",
    "\n"
   ]
  },
  {
   "cell_type": "markdown",
   "id": "c7ba544e-7e6f-47db-8221-80f57407039b",
   "metadata": {},
   "source": [
    "# Object-Oriented Programming practical Exercises\n",
    "\n",
    "## Ques 1  \n",
    "Create a parent class **Animal** with a method `speak()` that prints a generic message.  \n",
    "Create a child class **Dog** that overrides the `speak()` method to print **\"Bark!\"**.\n",
    "\n",
    "---\n",
    "\n",
    "## Ques 2  \n",
    "Write a program to create an **abstract class Shape** with a method `area()`.  \n",
    "Derive classes **Circle** and **Rectangle** from it and implement the `area()` method in both.\n",
    "\n",
    "---\n",
    "\n",
    "## Ques 3  \n",
    "Implement a **multi-level inheritance** scenario where:\n",
    "- A class **Vehicle** has an attribute `type`.  \n",
    "- Derive a class **Car**.  \n",
    "- Further derive a class **ElectricCar** that adds a `battery` attribute.\n",
    "\n",
    "---\n",
    "\n",
    "## Ques 4  \n",
    "Demonstrate **polymorphism** by creating a base class **Bird** with a method `fly()`.  \n",
    "Create two derived classes **Sparrow** and **Penguin** that override the `fly()` method.\n",
    "\n",
    "---\n",
    "\n",
    "## Ques 5  \n",
    "Write a program to demonstrate **encapsulation** by creating a class **BankAccount** with:  \n",
    "- Private attribute `balance`  \n",
    "- Methods to `deposit`, `withdraw`, and `check balance`."
   ]
  },
  {
   "cell_type": "code",
   "execution_count": 6,
   "id": "67e9bd46-d40e-46d4-b99f-9aba8b92d928",
   "metadata": {},
   "outputs": [],
   "source": [
    "##1\n",
    "class Animal:\n",
    "    def speak(self):\n",
    "        print(\"hello\")\n",
    "class Dog(Animal):\n",
    "    def speak(self):\n",
    "        print(\"bark\")"
   ]
  },
  {
   "cell_type": "code",
   "execution_count": 8,
   "id": "bfd2c372-1712-4c4f-932f-1eff12923404",
   "metadata": {},
   "outputs": [
    {
     "name": "stdout",
     "output_type": "stream",
     "text": [
      "bark\n"
     ]
    }
   ],
   "source": [
    "a1=Dog()\n",
    "a1.speak()"
   ]
  },
  {
   "cell_type": "code",
   "execution_count": 12,
   "id": "0c99a120-8856-4bf9-9312-e4a97457718b",
   "metadata": {},
   "outputs": [
    {
     "name": "stdout",
     "output_type": "stream",
     "text": [
      "Circle area: 78.53981633974483\n",
      "Rectangle area: 24\n"
     ]
    }
   ],
   "source": [
    "##2\n",
    "import abc\n",
    "import math\n",
    "\n",
    "# Abstract class\n",
    "class Shape():\n",
    "    @abc.abstractmethod\n",
    "    def area(self):\n",
    "        pass\n",
    "\n",
    "# Circle class\n",
    "class Circle(Shape):\n",
    "    def __init__(self, radius):\n",
    "        self.radius = radius\n",
    "    \n",
    "    def area(self):\n",
    "        return math.pi * self.radius ** 2\n",
    "\n",
    "# Rectangle class\n",
    "class Rectangle(Shape):\n",
    "    def __init__(self, length, width):\n",
    "        self.length = length\n",
    "        self.width = width\n",
    "    \n",
    "    def area(self):\n",
    "        return self.length * self.width\n",
    "\n",
    "# Example usage\n",
    "c = Circle(5)\n",
    "print(\"Circle area:\", c.area())\n",
    "\n",
    "r = Rectangle(4, 6)\n",
    "print(\"Rectangle area:\", r.area())"
   ]
  },
  {
   "cell_type": "code",
   "execution_count": 18,
   "id": "95fa94fc-be44-4154-b3c1-744deed38d8f",
   "metadata": {},
   "outputs": [],
   "source": [
    "##3\n",
    "class vehicle:\n",
    "    def __init__(self,type):\n",
    "        self.type=type\n",
    "    \n",
    "class Car(vehicle):\n",
    "    def __init__(self,type,brand):\n",
    "        super().__init__(type)\n",
    "        self.brand=brand\n",
    "class ElectricCar(Car):\n",
    "    def __init__ (self,type,brand,battery):\n",
    "        super().__init__(type,brand)\n",
    "        self.battery=battery\n",
    "     "
   ]
  },
  {
   "cell_type": "code",
   "execution_count": 19,
   "id": "4270bf12-c732-4ff5-9e8f-b5152c2b4cfd",
   "metadata": {},
   "outputs": [
    {
     "name": "stdout",
     "output_type": "stream",
     "text": [
      "Type: Four-wheeler\n",
      "Brand: Tesla\n",
      "Battery: 85 kWh\n"
     ]
    }
   ],
   "source": [
    "e_car = ElectricCar(\"Four-wheeler\", \"Tesla\", \"85 kWh\")\n",
    "print(\"Type:\", e_car.type)\n",
    "print(\"Brand:\", e_car.brand)\n",
    "print(\"Battery:\", e_car.battery)"
   ]
  },
  {
   "cell_type": "code",
   "execution_count": 20,
   "id": "3ffd2c81-9c4a-4b5f-9c30-1a267bbb7b26",
   "metadata": {},
   "outputs": [],
   "source": [
    "##4\n",
    "class Bird:\n",
    "    def fly(self):\n",
    "        print(\" in the parent class \")\n",
    "class Sparrow(Bird):\n",
    "    def fly(self):\n",
    "        print(\"hello,i am sparrow\")\n",
    "class Penguin(Bird):\n",
    "    def fly(self):\n",
    "        print(\"hello i am penguin\")\n",
    "\n",
    "def bird_fly(bird):\n",
    "    bird.fly()"
   ]
  },
  {
   "cell_type": "code",
   "execution_count": 22,
   "id": "aace54c2-8d86-4e59-922e-f008ea28158b",
   "metadata": {},
   "outputs": [
    {
     "name": "stdout",
     "output_type": "stream",
     "text": [
      "hello,i am sparrow\n"
     ]
    }
   ],
   "source": [
    "bird_fly(Sparrow())"
   ]
  },
  {
   "cell_type": "code",
   "execution_count": 42,
   "id": "ba8ff12c-ce91-4923-94b8-1f3f8f6c0f5d",
   "metadata": {},
   "outputs": [],
   "source": [
    "##5\n",
    "class BankAccount:\n",
    "    def __init__(self):\n",
    "        self.__balance=2000\n",
    "    def deposit(self,amount):\n",
    "        self.__balance+=amount\n",
    "        return f\"Balance = {self.__balance}\"\n",
    "    def withdraw(self,amount):\n",
    "        if 0<amount<=self.__balance:\n",
    "            self.__balance-=amount\n",
    "            return f\"Balance = {self.__balance}\"\n",
    "        else:\n",
    "           return\"not sufficient balance\"\n",
    "    def CheckBalnce(self):\n",
    "        return self.__balance"
   ]
  },
  {
   "cell_type": "code",
   "execution_count": 43,
   "id": "c18c4c8d-df03-4b8c-9f64-b8961f7e80c4",
   "metadata": {},
   "outputs": [],
   "source": [
    "Acc=BankAccount()"
   ]
  },
  {
   "cell_type": "code",
   "execution_count": 44,
   "id": "b461f495-1e93-46f8-96f3-41606d87e0f7",
   "metadata": {},
   "outputs": [
    {
     "data": {
      "text/plain": [
       "'Balance = 3000'"
      ]
     },
     "execution_count": 44,
     "metadata": {},
     "output_type": "execute_result"
    }
   ],
   "source": [
    "Acc.deposit(1000)"
   ]
  },
  {
   "cell_type": "code",
   "execution_count": 45,
   "id": "10f92b15-2286-43cb-95a9-aaaea34eb7ea",
   "metadata": {},
   "outputs": [
    {
     "data": {
      "text/plain": [
       "'not sufficient balance'"
      ]
     },
     "execution_count": 45,
     "metadata": {},
     "output_type": "execute_result"
    }
   ],
   "source": [
    "Acc.withdraw(3500)"
   ]
  },
  {
   "cell_type": "markdown",
   "id": "579ba6af-d55d-4776-ac79-de381e95bafe",
   "metadata": {},
   "source": [
    "### Ques 6\n",
    "Demonstrate runtime polymorphism using a method `play()` in a base class `Instrument`.  \n",
    "Derive classes `Guitar` and `Piano` that implement their own version of `play()`.\n",
    "\n",
    "---\n",
    "\n",
    "### Ques 7\n",
    "Create a class `MathOperations` with a class method `add_numbers()` to add two numbers  \n",
    "and a static method `subtract_numbers()` to subtract two numbers.\n",
    "\n",
    "---\n",
    "\n",
    "### Ques 8\n",
    "Implement a class `Person` with a class method to count the total number of persons created.\n",
    "\n",
    "---\n",
    "\n",
    "### Ques 9\n",
    "Write a class `Fraction` with attributes numerator and denominator.  \n",
    "Override the `__str__` method to display the fraction as `\"numerator/denominator\"`.\n",
    "\n",
    "---\n",
    "\n",
    "### Ques 10\n",
    "Demonstrate operator overloading by creating a class `Vector`  \n",
    "and overriding the `__add__` method to add two vectors."
   ]
  },
  {
   "cell_type": "code",
   "execution_count": 46,
   "id": "bf14ce9f-193d-49aa-bf29-e38039aaa98c",
   "metadata": {},
   "outputs": [],
   "source": [
    "##6\n",
    "class Instrument:\n",
    "    def play(self):\n",
    "        print(\"instrument sound\")\n",
    "class Guitar(Instrument):\n",
    "    def play(self):\n",
    "        print(\"playing guitar\")\n",
    "class Piano(Instrument):\n",
    "    def play(self):\n",
    "        print(\"piano is playing\")\n",
    "def play_instru(instrument):\n",
    "    instrument.play()"
   ]
  },
  {
   "cell_type": "code",
   "execution_count": 48,
   "id": "b0ba88d0-f70b-4210-abfe-0daf59436a06",
   "metadata": {},
   "outputs": [
    {
     "name": "stdout",
     "output_type": "stream",
     "text": [
      "piano is playing\n"
     ]
    }
   ],
   "source": [
    "play_instru(Piano())"
   ]
  },
  {
   "cell_type": "code",
   "execution_count": 49,
   "id": "5b0a2b06-f817-4403-9c4b-81c97cc73bb5",
   "metadata": {},
   "outputs": [],
   "source": [
    "##7\n",
    "class MathOperations:\n",
    "    x=10\n",
    "    y=5\n",
    "    @classmethod\n",
    "    def add_numbers(cls):\n",
    "        return cls.x+cls.y\n",
    "    @staticmethod\n",
    "    def subtract_numbers(a,b):\n",
    "        return a-b"
   ]
  },
  {
   "cell_type": "code",
   "execution_count": 50,
   "id": "1d55ae2e-a861-4e0c-be7d-1faabe6e733e",
   "metadata": {},
   "outputs": [
    {
     "name": "stdout",
     "output_type": "stream",
     "text": [
      "15\n"
     ]
    }
   ],
   "source": [
    "print(MathOperations.add_numbers())"
   ]
  },
  {
   "cell_type": "code",
   "execution_count": 51,
   "id": "c22163b8-e7e7-4282-9618-534ef348688f",
   "metadata": {},
   "outputs": [
    {
     "name": "stdout",
     "output_type": "stream",
     "text": [
      "13\n"
     ]
    }
   ],
   "source": [
    "print(MathOperations.subtract_numbers(20, 7)) "
   ]
  },
  {
   "cell_type": "code",
   "execution_count": 62,
   "id": "714ca6eb-e58e-49d8-98a2-09604440d3dc",
   "metadata": {},
   "outputs": [],
   "source": [
    "##8\n",
    "class Person:\n",
    "    person=0\n",
    "    def __init__(self,name):\n",
    "        self.name=name\n",
    "        Person.person+=1\n",
    "    @classmethod\n",
    "    def count_person(cls):\n",
    "        cls.person+=1\n",
    "        return cls.person"
   ]
  },
  {
   "cell_type": "code",
   "execution_count": 63,
   "id": "040f7347-35bc-494f-a0d9-88dfdcbfc139",
   "metadata": {},
   "outputs": [
    {
     "data": {
      "text/plain": [
       "2"
      ]
     },
     "execution_count": 63,
     "metadata": {},
     "output_type": "execute_result"
    }
   ],
   "source": [
    "p=Person(\"devansh\")\n",
    "(Person.count_person())"
   ]
  },
  {
   "cell_type": "code",
   "execution_count": 71,
   "id": "59b960a0-5e32-4081-9368-5b8ce97ac075",
   "metadata": {},
   "outputs": [],
   "source": [
    "##9\n",
    "class Fraction:\n",
    "    def __init__(self,numerator,denominator):\n",
    "        self.numerator=numerator\n",
    "        self.denominator=denominator\n",
    "\n",
    "    def __str__(self):\n",
    "        return f\"{self.numerator}/{self.denominator}\""
   ]
  },
  {
   "cell_type": "code",
   "execution_count": 72,
   "id": "2d8d1c17-16f8-4e2e-94c0-cb8d7a0baca4",
   "metadata": {},
   "outputs": [
    {
     "name": "stdout",
     "output_type": "stream",
     "text": [
      "3/4\n"
     ]
    }
   ],
   "source": [
    "f=Fraction(3,4)\n",
    "print(f)"
   ]
  },
  {
   "cell_type": "code",
   "execution_count": 82,
   "id": "69c5e395-27fe-43e3-8d8b-36b2b46d4839",
   "metadata": {},
   "outputs": [],
   "source": [
    "##10\n",
    "class Vector():\n",
    "    def __init__(self,x,y):\n",
    "        self.x=x\n",
    "        self.y=y\n",
    "    def __add__(self,other):\n",
    "        return Vector(self.x+other.x,self.y+other.y)\n",
    "    def __str__(self):\n",
    "        return f\"{self.x,self.y}\""
   ]
  },
  {
   "cell_type": "code",
   "execution_count": 83,
   "id": "331d0e91-b468-4561-aeac-b8b3da4f5853",
   "metadata": {},
   "outputs": [
    {
     "name": "stdout",
     "output_type": "stream",
     "text": [
      "(5, 7)\n"
     ]
    }
   ],
   "source": [
    "v1=Vector(4,5)\n",
    "v2=Vector(1,2)\n",
    "v3=v1+v2\n",
    "print(v3)\n"
   ]
  },
  {
   "cell_type": "markdown",
   "id": "898d6d82-cf57-42d3-ac56-fe5510a7f06f",
   "metadata": {},
   "source": [
    "## Q11. Create a class Person with attributes name and age.  \n",
    "Add a method `greet()` that prints  \n",
    "\"Hello, my name is {name} and I am {age} years old.\"\n",
    "\n",
    "---\n",
    "\n",
    "## Q12. Implement a class Student with attributes name and grades.  \n",
    "Create a method `average_grade()` to compute the average of the grades.\n",
    "\n",
    "---\n",
    "\n",
    "## Q13. Create a class Rectangle with methods `set_dimensions()` to set the dimensions and `area()` to calculate the area.\n",
    "\n",
    "---\n",
    "\n",
    "## Q14. Create a class Employee with a method `calculate_salary()` that computes the salary based on hours worked and hourly rate.  \n",
    "Create a derived class `Manager` that adds a bonus to the salary.\n",
    "\n",
    "---\n",
    "\n",
    "## Q15. Create a class Product with attributes name, price, and quantity.  \n",
    "Implement a method `total_price()` that calculates the total price of the product.\n"
   ]
  },
  {
   "cell_type": "code",
   "execution_count": 1,
   "id": "25727259-b947-4e1e-8cf7-341e54a061bf",
   "metadata": {},
   "outputs": [],
   "source": [
    "#11\n",
    "class Person:\n",
    "    def __init__(self,name,age):\n",
    "        self.name=name\n",
    "        self.age=age\n",
    "    def greet(self):\n",
    "        print(f\"hello, my name is {self.name} and i am {self.age} years old\")"
   ]
  },
  {
   "cell_type": "code",
   "execution_count": 4,
   "id": "633d3a4a-f65b-41c0-b0e3-acfccb65ad47",
   "metadata": {},
   "outputs": [],
   "source": [
    "p=Person(\"Devansh\",22)"
   ]
  },
  {
   "cell_type": "code",
   "execution_count": 5,
   "id": "acd006f5-4d68-4de8-b429-6504263af489",
   "metadata": {},
   "outputs": [
    {
     "name": "stdout",
     "output_type": "stream",
     "text": [
      "hello, my name is Devansh and i am 22 years old\n"
     ]
    }
   ],
   "source": [
    "p.greet()"
   ]
  },
  {
   "cell_type": "code",
   "execution_count": 6,
   "id": "2996ebec-d9f8-434e-bcf3-a0fb77c7a8c4",
   "metadata": {},
   "outputs": [],
   "source": [
    "#12\n",
    "class Student:\n",
    "    def __init__(self,name, eng_grades,maths_grades,science_grades):\n",
    "        self.e=eng_grades\n",
    "        self.m=maths_grades\n",
    "        self.s=science_grades\n",
    "    def average_grade(self):\n",
    "        return (self.e+self.m+self.s)/3"
   ]
  },
  {
   "cell_type": "code",
   "execution_count": 7,
   "id": "1aa19ab7-5542-40ac-b8ee-3f7dc750d976",
   "metadata": {},
   "outputs": [],
   "source": [
    "s=Student(\"Devansh\",89,23,23)"
   ]
  },
  {
   "cell_type": "code",
   "execution_count": 8,
   "id": "f440d9fc-e58f-4c63-835a-e3b9a23eab4c",
   "metadata": {},
   "outputs": [
    {
     "data": {
      "text/plain": [
       "45.0"
      ]
     },
     "execution_count": 8,
     "metadata": {},
     "output_type": "execute_result"
    }
   ],
   "source": [
    "s.average_grade()"
   ]
  },
  {
   "cell_type": "code",
   "execution_count": 9,
   "id": "43e02527-1d92-451e-be44-31e136f2e5d0",
   "metadata": {},
   "outputs": [],
   "source": [
    "##13\n",
    "class Rectangle:\n",
    "    def set_dimensions(self, length, width):\n",
    "        self.length = length\n",
    "        self.width = width\n",
    "\n",
    "    def area(self):\n",
    "        return self.length * self.width"
   ]
  },
  {
   "cell_type": "code",
   "execution_count": 10,
   "id": "51051a59-f576-401a-bf01-bfdcc75b2f15",
   "metadata": {},
   "outputs": [
    {
     "name": "stdout",
     "output_type": "stream",
     "text": [
      "Area of Rectangle: 50\n"
     ]
    }
   ],
   "source": [
    "r = Rectangle()\n",
    "r.set_dimensions(10, 5)\n",
    "print(\"Area of Rectangle:\", r.area())"
   ]
  },
  {
   "cell_type": "code",
   "execution_count": 13,
   "id": "a1fe07d5-7ffc-430c-aba7-9eb9e7dcd3a7",
   "metadata": {},
   "outputs": [],
   "source": [
    "##14\n",
    "class Employee:\n",
    "     def __init__(self, hours_worked, hourly_rate):\n",
    "        self.hours_worked = hours_worked\n",
    "        self.hourly_rate = hourly_rate\n",
    "\n",
    "     def calculate_salary(self):\n",
    "        return self.hours_worked * self.hourly_rate\n",
    "\n",
    "class Manager(Employee):\n",
    "    def __init__(self, hours_worked, hourly_rate, bonus):\n",
    "        super().__init__(hours_worked, hourly_rate)\n",
    "        self.bonus = bonus\n",
    "\n",
    "    def calculate_salary(self):\n",
    "        return super().calculate_salary() + self.bonus"
   ]
  },
  {
   "cell_type": "code",
   "execution_count": 14,
   "id": "f33b87dc-262c-421a-b56d-c41d2359fe71",
   "metadata": {},
   "outputs": [
    {
     "name": "stdout",
     "output_type": "stream",
     "text": [
      "Employee Salary: 8000\n",
      "Manager Salary: 13000\n"
     ]
    }
   ],
   "source": [
    "e = Employee(40, 200)\n",
    "print(\"Employee Salary:\", e.calculate_salary())\n",
    "\n",
    "m = Manager(40, 200, 5000)\n",
    "print(\"Manager Salary:\", m.calculate_salary())"
   ]
  },
  {
   "cell_type": "code",
   "execution_count": 1,
   "id": "bb9ab098-1242-41d9-91fc-ecfaa9219692",
   "metadata": {},
   "outputs": [],
   "source": [
    "## 15\n",
    "class Product:\n",
    "    def __init__(self,name, price,quantity):\n",
    "        self.n=name\n",
    "        self.p=price\n",
    "        self.q=quantity\n",
    "    def total_price(self):\n",
    "        total_price=self.p*self.q\n",
    "        return total_price"
   ]
  },
  {
   "cell_type": "code",
   "execution_count": 2,
   "id": "efed4f5b-1e21-460c-9507-e3950db2cda8",
   "metadata": {},
   "outputs": [
    {
     "data": {
      "text/plain": [
       "100"
      ]
     },
     "execution_count": 2,
     "metadata": {},
     "output_type": "execute_result"
    }
   ],
   "source": [
    "p=Product(\"pencil\",10,10)\n",
    "p.total_price()"
   ]
  },
  {
   "cell_type": "markdown",
   "id": "22ebc069-ba15-4cd1-b4cc-2d52db3b0c76",
   "metadata": {},
   "source": [
    "### Ques16:  \n",
    "Create a class `Animal` with an abstract method `sound()`. Create two derived classes `Cow` and `Sheep` that implement the `sound()` method.\n",
    "\n",
    "---\n",
    "\n",
    "### Ques17:  \n",
    "Create a class `Book` with attributes `title`, `author`, and `year_published`. Add a method `get_book_info()` that returns a formatted string with the book's details.\n",
    "\n",
    "---\n",
    "\n",
    "### Ques18:  \n",
    "Create a class `House` with attributes `address` and `price`. Create a derived class `Mansion` that adds an attribute `number_of_rooms`.\n"
   ]
  },
  {
   "cell_type": "code",
   "execution_count": 3,
   "id": "117a8357-5d89-45b0-931a-15183c97c1c8",
   "metadata": {},
   "outputs": [
    {
     "name": "stdout",
     "output_type": "stream",
     "text": [
      "Cow: Moo\n",
      "Sheep: Baa\n"
     ]
    }
   ],
   "source": [
    "## 16\n",
    "from abc import ABC, abstractmethod\n",
    "\n",
    "class Animal(ABC):   # Abstract Base Class\n",
    "    @abstractmethod\n",
    "    def sound(self):\n",
    "        pass   # no implementation\n",
    "\n",
    "class Cow(Animal):\n",
    "    def sound(self):\n",
    "        return \"Moo\"\n",
    "\n",
    "class Sheep(Animal):\n",
    "    def sound(self):\n",
    "        return \"Baa\"\n",
    "\n",
    "# Example usage\n",
    "cow = Cow()\n",
    "sheep = Sheep()\n",
    "print(\"Cow:\", cow.sound())\n",
    "print(\"Sheep:\", sheep.sound())\n"
   ]
  },
  {
   "cell_type": "code",
   "execution_count": 10,
   "id": "0fd62928-517b-4215-b785-0cbfc2d502ab",
   "metadata": {},
   "outputs": [],
   "source": [
    "##17\n",
    "class Book:\n",
    "    def  __init__(self,title, author,year_published):\n",
    "        self.t=title\n",
    "        self.a=author\n",
    "        self.y=year_published\n",
    "    def get_book_info(self):\n",
    "        return f\" the book title is '{self.t}' , its author is '{self.a}' and published in {self.y}\"\n",
    "        "
   ]
  },
  {
   "cell_type": "code",
   "execution_count": 11,
   "id": "e925e8eb-8901-49cc-99b4-998ce7d1291a",
   "metadata": {},
   "outputs": [
    {
     "data": {
      "text/plain": [
       "\" the book title is 'To Kill a Mockingbird' , its author is 'Harper Lee' and published in 1960\""
      ]
     },
     "execution_count": 11,
     "metadata": {},
     "output_type": "execute_result"
    }
   ],
   "source": [
    "b=Book(\"To Kill a Mockingbird\", \"Harper Lee\", 1960)\n",
    "b.get_book_info()"
   ]
  },
  {
   "cell_type": "code",
   "execution_count": 14,
   "id": "eadb0a65-9595-40ce-90a7-02382f05ef8f",
   "metadata": {},
   "outputs": [],
   "source": [
    "## 18\n",
    "class House:\n",
    "    def __init__ (self,address,price):\n",
    "        self.a=address\n",
    "        self.p=price\n",
    "\n",
    "class Mansion(House):\n",
    "    def __init__(self,address, price,number_of_rooms):\n",
    "        super().__init__(address, price)\n",
    "        self.n=number_of_rooms    "
   ]
  },
  {
   "cell_type": "code",
   "execution_count": 16,
   "id": "a68c0910-a78f-4abb-98cc-10419821cb63",
   "metadata": {},
   "outputs": [
    {
     "name": "stdout",
     "output_type": "stream",
     "text": [
      "Address: Delhi\n",
      "Price: 2000000\n",
      "Rooms: 8\n"
     ]
    }
   ],
   "source": [
    "m = Mansion(\"Delhi\", 2000000, 8)\n",
    "print(\"Address:\", m.a)\n",
    "print(\"Price:\", m.p)\n",
    "print(\"Rooms:\", m.n)"
   ]
  },
  {
   "cell_type": "code",
   "execution_count": null,
   "id": "363350df-2240-483f-aa98-f658ec5e303c",
   "metadata": {},
   "outputs": [],
   "source": []
  },
  {
   "cell_type": "code",
   "execution_count": null,
   "id": "45833479-3896-469d-8c79-73a53a9773e0",
   "metadata": {},
   "outputs": [],
   "source": []
  }
 ],
 "metadata": {
  "kernelspec": {
   "display_name": "Python 3 (ipykernel)",
   "language": "python",
   "name": "python3"
  },
  "language_info": {
   "codemirror_mode": {
    "name": "ipython",
    "version": 3
   },
   "file_extension": ".py",
   "mimetype": "text/x-python",
   "name": "python",
   "nbconvert_exporter": "python",
   "pygments_lexer": "ipython3",
   "version": "3.13.5"
  }
 },
 "nbformat": 4,
 "nbformat_minor": 5
}
